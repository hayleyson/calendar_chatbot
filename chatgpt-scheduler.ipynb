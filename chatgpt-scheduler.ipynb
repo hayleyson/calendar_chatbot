{
 "cells": [
  {
   "cell_type": "code",
   "execution_count": 8,
   "metadata": {},
   "outputs": [],
   "source": [
    "import calendar_utils\n",
    "import json"
   ]
  },
  {
   "cell_type": "code",
   "execution_count": 91,
   "metadata": {},
   "outputs": [
    {
     "data": {
      "text/plain": [
       "<module 'calendar_utils' from '/Users/hayley/Documents/conv-ai/calendar_utils.py'>"
      ]
     },
     "execution_count": 91,
     "metadata": {},
     "output_type": "execute_result"
    }
   ],
   "source": [
    "import importlib \n",
    "importlib.reload(calendar_utils)"
   ]
  },
  {
   "cell_type": "code",
   "execution_count": 39,
   "id": "616c69ec-bd72-417d-b292-5d07ee05b603",
   "metadata": {},
   "outputs": [
    {
     "data": {
      "text/plain": [
       "True"
      ]
     },
     "execution_count": 39,
     "metadata": {},
     "output_type": "execute_result"
    }
   ],
   "source": [
    "from dotenv import load_dotenv\n",
    "import os\n",
    "import re\n",
    "from datetime import datetime\n",
    "\n",
    "load_dotenv()"
   ]
  },
  {
   "cell_type": "code",
   "execution_count": 72,
   "id": "42431b6b-da8c-4df9-b838-c1ccd6714c30",
   "metadata": {},
   "outputs": [],
   "source": [
    "# Basic ChatGPT class\n",
    "import openai\n",
    "from openai import OpenAI\n",
    "\n",
    "\n",
    "class BasicChatGPT:\n",
    "  def __init__(self, openai_api_key, max_tokens=100):\n",
    "    openai.api_key = openai_api_key\n",
    "    self.max_tokens = max_tokens\n",
    "    self.messages = []\n",
    "    self.client = OpenAI()\n",
    "\n",
    "  def call(self):\n",
    "    response = self.client.chat.completions.create(\n",
    "      model=\"gpt-4-1106-preview\",\n",
    "      # model=\"gpt-3.5-turbo\",\n",
    "      response_format={ \"type\": \"json_object\" },\n",
    "      messages=self.messages,\n",
    "      max_tokens=self.max_tokens\n",
    "    )\n",
    "    return response\n",
    "\n",
    "  def prompt(self, text):\n",
    "    # Update the messages so far\n",
    "    self.messages.append({\n",
    "        \"role\": \"user\",\n",
    "        \"content\": text,\n",
    "    })\n",
    "\n",
    "    # Call ChatGPT\n",
    "    response = self.call()\n",
    "\n",
    "    # Save the returned message\n",
    "    message = response[\"choices\"][0][\"message\"]\n",
    "    self.messages.append(message)\n",
    "\n",
    "    return message[\"content\"]\n"
   ]
  },
  {
   "cell_type": "code",
   "execution_count": 23,
   "id": "e47de988-eaee-4bac-b130-cdcf0db1b6d7",
   "metadata": {},
   "outputs": [],
   "source": [
    "# # Run an interactive console to chat with ChatGPT\n",
    "# def run_console(chatgpt):\n",
    "#     while True:\n",
    "#         # Receive user input\n",
    "#         prompt = input(\"User: \")\n",
    "\n",
    "#         # Exit the loop if the user entered \"exit\"\n",
    "#         if prompt == \"exit\":\n",
    "#             break\n",
    "\n",
    "#         # Receive and display ChatGPT response\n",
    "#         response = chatgpt.prompt(prompt)\n",
    "#         print(\"ChatGPT:\", response)\n",
    "#     print(\"The chat has ended\")"
   ]
  },
  {
   "cell_type": "code",
   "execution_count": 73,
   "id": "7717221b-edde-46f9-978b-21b373e4368f",
   "metadata": {},
   "outputs": [],
   "source": [
    "# Make a ChatGPT object\n",
    "basic_chatgpt = BasicChatGPT(os.environ.get(\"OPENAI_API_KEY\"), max_tokens = 120)\n",
    "\n",
    "# run_console(basic_chatgpt)"
   ]
  },
  {
   "cell_type": "code",
   "execution_count": 9,
   "metadata": {},
   "outputs": [],
   "source": [
    "# calendar service 정의하는 부분 -> credentials.json 이 경로에 있어야 하고 \n",
    "# 그리고 팝업 뜨면 너가 authorize 해줘야함 그리고 너 노트북이나 데탑 로컬에서 해야 함\n",
    "# https://developers.google.com/resources/api-libraries/documentation/calendar/v3/python/latest/calendar_v3.events.html#list\n",
    "service = calendar_utils.get_calendar_service()"
   ]
  },
  {
   "cell_type": "code",
   "execution_count": null,
   "metadata": {},
   "outputs": [],
   "source": [
    "## if user asks about \"today's schedule\"\n",
    "## first detect today\n",
    "## then find what's today\n",
    "## then request calendar for today's schedule"
   ]
  },
  {
   "cell_type": "code",
   "execution_count": 75,
   "metadata": {},
   "outputs": [
    {
     "name": "stdout",
     "output_type": "stream",
     "text": [
      "{\"detected_phrase\": \"Monday two weeks later\", \"date\": \"2023/12/04\"}\n"
     ]
    }
   ],
   "source": [
    "# first detect today and then find what date is today\n",
    "\n",
    "input_text = f\"\"\" Today is {datetime.datetime.today().date()}.\n",
    "Detect any time-related phrase from the given input from the user and resolve it into a date in the format of YYYY/MM/DD.\n",
    "Examples include today, tomorrow, this Wednesday, next Tuesday, last Friday, 11/13, November 5th, 13th of July.\n",
    "When the detected word is day of week, make sure to include adjective in front of it such as \"this\", \"next\", \"upcoming\", \"last\", \"past\".\n",
    "\\n\\n\n",
    "Your output must be in this format. Json(\"detected_phrase\": <detected phrase>, \"date\": <YYYY/MM/DD>)\n",
    "\n",
    "\\n\\n\n",
    "Example 1\n",
    "Input: Today is 2023/1/2. ... I want to schedule a meeting at 5PM tomorrow.\n",
    "Output: tomorrow, 2023/1/3\n",
    "\n",
    "Example 2\n",
    "Input: Today is 2023/1/2. ... What time does the class start next Friday?\n",
    "Output: next Friday, 2023/1/13\n",
    "\n",
    "Example 3\n",
    "Input: Today is 2023/1/2. ... What is the date of this upcoming Friday?\n",
    "Output: this upcoming Friday, 2023/1/6\n",
    "\\n\\nInput: \n",
    "\"\"\"\n",
    "\n",
    "input_text += \"I want to see a list of schedule from Monday two weeks later.\"\n",
    "\n",
    "\n",
    "\n",
    "basic_chatgpt.messages.append({\n",
    "    \"role\": \"user\",\n",
    "    \"content\": input_text,\n",
    "})\n",
    "\n",
    "# Call ChatGPT\n",
    "response = basic_chatgpt.call()\n",
    "message = response.choices[0].message.content\n",
    "init_result = json.loads(message)\n",
    "\n",
    "print(message)\n",
    "# Save the returned message\n",
    "# message = response[\"choices\"][0][\"message\"]\n",
    "# self.messages.append(message)\n",
    "\n"
   ]
  },
  {
   "cell_type": "code",
   "execution_count": 102,
   "metadata": {},
   "outputs": [],
   "source": [
    "# mydate = datetime.datetime.strptime(init_result['date'], \"%Y/%m/%d\").isoformat() + \"Z\"\n",
    "# mydate_p1 = (datetime.datetime.strptime(init_result['date'], \"%Y/%m/%d\") + datetime.timedelta(days=1)).isoformat() + \"Z\"\n",
    "mydate = datetime.datetime.now(datetime.UTC).isoformat().split('+')[0] + \"Z\"\n",
    "mydate_p1 = (datetime.datetime.now(datetime.UTC) + datetime.timedelta(days=1)).isoformat().split('+')[0] + \"Z\""
   ]
  },
  {
   "cell_type": "code",
   "execution_count": 104,
   "metadata": {},
   "outputs": [
    {
     "name": "stdout",
     "output_type": "stream",
     "text": [
      "2023-10-08T23:00:00+09:00 기도\n",
      "2023-11-22 규인 휴가\n"
     ]
    },
    {
     "data": {
      "text/plain": [
       "[{'kind': 'calendar#event',\n",
       "  'etag': '\"3393470160096000\"',\n",
       "  'id': '_8os38chm650j2ba274qj2b9k70rj2b9p6cr48ba48p2j8da16spj6ci460',\n",
       "  'status': 'confirmed',\n",
       "  'htmlLink': 'https://www.google.com/calendar/event?eid=XzhvczM4Y2htNjUwajJiYTI3NHFqMmI5azcwcmoyYjlwNmNyNDhiYTQ4cDJqOGRhMTZzcGo2Y2k0NjBfMjAyMzEwMDhUMTQwMDAwWiBoYXlsZXlzb245MkBt',\n",
       "  'created': '2023-10-08T03:17:49.000Z',\n",
       "  'updated': '2023-10-08T03:18:00.048Z',\n",
       "  'summary': '기도',\n",
       "  'creator': {'email': 'hayleyson92@gmail.com', 'self': True},\n",
       "  'organizer': {'email': 'hayleyson92@gmail.com', 'self': True},\n",
       "  'start': {'dateTime': '2023-10-08T23:00:00+09:00', 'timeZone': 'Asia/Seoul'},\n",
       "  'end': {'dateTime': '2023-10-09T00:00:00+09:00', 'timeZone': 'Asia/Seoul'},\n",
       "  'recurrence': ['RRULE:FREQ=DAILY'],\n",
       "  'iCalUID': 'F84261A1-B951-4871-936D-DFE45A7332D0',\n",
       "  'sequence': 1,\n",
       "  'reminders': {'useDefault': True},\n",
       "  'eventType': 'default'},\n",
       " {'kind': 'calendar#event',\n",
       "  'etag': '\"3399772430664000\"',\n",
       "  'id': '_68pj6d2660pj4ba460p3ab9k6so3eba18gr3eba18d0jed1h6l0k4cq68o',\n",
       "  'status': 'confirmed',\n",
       "  'htmlLink': 'https://www.google.com/calendar/event?eid=XzY4cGo2ZDI2NjBwajRiYTQ2MHAzYWI5azZzbzNlYmExOGdyM2ViYTE4ZDBqZWQxaDZsMGs0Y3E2OG8gaGF5bGV5c29uOTJAbQ',\n",
       "  'created': '2023-11-13T14:36:55.000Z',\n",
       "  'updated': '2023-11-13T14:36:55.332Z',\n",
       "  'summary': '규인 휴가',\n",
       "  'creator': {'email': 'hayleyson92@gmail.com', 'self': True},\n",
       "  'organizer': {'email': 'hayleyson92@gmail.com', 'self': True},\n",
       "  'start': {'date': '2023-11-22'},\n",
       "  'end': {'date': '2023-12-01'},\n",
       "  'iCalUID': '2334F032-D025-4707-AD67-ACA7415AB3FF',\n",
       "  'sequence': 0,\n",
       "  'reminders': {'useDefault': False,\n",
       "   'overrides': [{'method': 'popup', 'minutes': 30}]},\n",
       "  'eventType': 'default'}]"
      ]
     },
     "execution_count": 104,
     "metadata": {},
     "output_type": "execute_result"
    }
   ],
   "source": [
    "#https://developers.google.com/resources/api-libraries/documentation/calendar/v3/python/latest/calendar_v3.events.html#list\n",
    "\n",
    "calendar_utils.get_event_list_recent(timeMin=mydate, timeMax=mydate_p1)"
   ]
  },
  {
   "cell_type": "code",
   "execution_count": 49,
   "metadata": {},
   "outputs": [
    {
     "name": "stdout",
     "output_type": "stream",
     "text": [
      "2023-11-27\n"
     ]
    }
   ],
   "source": [
    "# 이거 내가 룰로 짜서 this monday -> 2023/11/27 이렇게 파싱하려고 했던 흔적임. 근데 그냥 chatgpt gpt4 한테 물어봤는데 잘해서 그냥 이거로 안했음..\n",
    "# 그렇게 할 때의 input_text 는 이거였음 아래 참고\n",
    "\n",
    "# input_text = \"\"\"\n",
    "# Detect any time-related word from the given input from the user.\n",
    "# Examples include today, tomorrow, this Wednesday, next Tuesday, last Friday, 11/13, November 5th, 13th of July.\n",
    "# When the detected word is day of week, make sure to include adjective in front of it such as \"this\", \"next\", \"upcoming\", \"last\", \"past\".\n",
    "# \\n\\n\n",
    "# Example 1\n",
    "# Input: I want to schedule a meeting at 5PM tomorrow.\n",
    "# Output: tomorrow\n",
    "\n",
    "# Example 2\n",
    "# Input: What time does the class start next Friday?\n",
    "# Output: next Friday\n",
    "\n",
    "# Example 3\n",
    "# Input: What is the date of this upcoming Friday?\n",
    "# Output: this upcoming Friday\n",
    "# \\n\\nInput: \n",
    "# \"\"\"\n",
    "\n",
    "\n",
    "# query_date = None\n",
    "# found_time_related_phrase = 'this Monday'\n",
    "# found_time_related_phrase = found_time_related_phrase.lower()\n",
    "# if found_time_related_phrase == 'today':\n",
    "#     query_date = datetime.datetime.today().date()\n",
    "# elif found_time_related_phrase == 'tomorrow':\n",
    "#     query_date = datetime.datetime.today().date() + datetime.timedelta(days=1)\n",
    "# elif found_time_related_phrase == 'yesterday':\n",
    "#     query_date = datetime.datetime.today().date() - datetime.timedelta(days=1)\n",
    "# elif 'day' in found_time_related_phrase:\n",
    "#     phrases = found_time_related_phrase.split()\n",
    "#     prefix = phrases[0]\n",
    "#     dow = phrases[-1]\n",
    "#     dow2num={'monday':0, 'tuesday':1, 'wednesday':2, 'thursday':3, 'friday': 4, 'saturday':5, 'sunday':6}\n",
    "#     today = datetime.date.today()\n",
    "#     this_dow = today + datetime.timedelta( (dow2num[dow]-today.weekday()) % 7 )\n",
    "#     if prefix == 'this': # dow closest from today in the future\n",
    "#         query_date = this_dow\n",
    "#     elif prefix == 'next': # dow one week from this dow\n",
    "#         query_date = this_dow + datetime.timedelta(7)\n",
    "#     elif prefix == 'last': # dow one week prior to this dow\n",
    "#         query_date = this_dow - datetime.timedelta(7)\n",
    "# print(query_date)"
   ]
  },
  {
   "cell_type": "code",
   "execution_count": null,
   "metadata": {},
   "outputs": [],
   "source": []
  }
 ],
 "metadata": {
  "kernelspec": {
   "display_name": "Python 3 (ipykernel)",
   "language": "python",
   "name": "python3"
  },
  "language_info": {
   "codemirror_mode": {
    "name": "ipython",
    "version": 3
   },
   "file_extension": ".py",
   "mimetype": "text/x-python",
   "name": "python",
   "nbconvert_exporter": "python",
   "pygments_lexer": "ipython3",
   "version": "3.12.0"
  }
 },
 "nbformat": 4,
 "nbformat_minor": 5
}
