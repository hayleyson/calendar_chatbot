{
 "cells": [
  {
   "cell_type": "code",
   "execution_count": 35,
   "metadata": {},
   "outputs": [
    {
     "data": {
      "text/plain": [
       "True"
      ]
     },
     "execution_count": 35,
     "metadata": {},
     "output_type": "execute_result"
    }
   ],
   "source": [
    "import calendar_utils\n",
    "from chatbot_utils import CalendarChatGPT\n",
    "import json\n",
    "from dotenv import load_dotenv\n",
    "import os\n",
    "import ast\n",
    "import re\n",
    "import datetime\n",
    "import openai\n",
    "from openai import OpenAI\n",
    "import dateutil.parser as parser\n",
    "\n",
    "from ast import literal_eval\n",
    "\n",
    "load_dotenv()"
   ]
  },
  {
   "cell_type": "code",
   "execution_count": 40,
   "metadata": {},
   "outputs": [
    {
     "data": {
      "text/plain": [
       "<module 'calendar_utils' from '/Users/hayley/Documents/conv_ai/calendar_utils.py'>"
      ]
     },
     "execution_count": 40,
     "metadata": {},
     "output_type": "execute_result"
    }
   ],
   "source": [
    "import importlib\n",
    "importlib.reload(calendar_utils)"
   ]
  },
  {
   "cell_type": "code",
   "execution_count": 51,
   "metadata": {},
   "outputs": [],
   "source": []
  },
  {
   "cell_type": "code",
   "execution_count": 52,
   "metadata": {},
   "outputs": [
    {
     "name": "stdout",
     "output_type": "stream",
     "text": [
      ">>===========================================\n",
      "[Prompt for Intent Classification]\n",
      " I want to see a list of schedule from Monday two weeks later.\n",
      "\n",
      "Do not respond yet. Classify user intention as one of 1, 2, 3. The meaning of the indices are as follows.(1) Summarize events in the calendar. (2) Add an event to the calender. (3) Plan tasks and add multiple events to the calendar.If none, just say nothing.Example of (1): I want to see a list of schedule from Monday two weeks later.\n",
      "\n",
      "message_content: 1\n",
      "{\"detected_phrase\": \"today\", \"date\": \"2023/11/22\", \"date_after_date\": \"2023/11/23\"}\n",
      "{'dateTime': '2023-10-08T23:00:00+09:00', 'timeZone': 'Asia/Seoul'}\n",
      "{'dateTime': '2023-10-09T00:00:00+09:00', 'timeZone': 'Asia/Seoul'}\n",
      "{'dateTime': '2023-11-01T13:30:00+09:00', 'timeZone': 'Asia/Seoul'}\n",
      "{'dateTime': '2023-11-01T15:30:00+09:00', 'timeZone': 'Asia/Seoul'}\n",
      "{'date': '2023-11-22'}\n",
      "{'date': '2023-12-01'}\n",
      "{'dateTime': '2023-11-22T15:00:00+09:00', 'timeZone': 'Asia/Seoul'}\n",
      "{'dateTime': '2023-11-22T16:00:00+09:00', 'timeZone': 'Asia/Seoul'}\n",
      "{'dateTime': '2023-11-22T09:00:00+09:00', 'timeZone': 'Asia/Seoul'}\n",
      "{'dateTime': '2023-11-22T10:00:00+09:00', 'timeZone': 'Asia/Seoul'}\n",
      " You are a sophisticated calendar management assistant, adapt at organizing and managing calendar schedules for both simple and complex tasks.\n",
      "    For a given day, check the user's Calendar input which is given as list of python dictionaries and output the agenda for the day in markdown using relevant emojis as bullet points.     Your output must be in this format. Json(\"date\": <YYYY/MM/DD>, \"schedule\": <schedule>, \"start_time\":<HH:MM>, \"Location\": <location>, \"Participants\":<participants>)\n",
      "    Here's an example:\n",
      "    Example 1\n",
      "    Input: The given date is 2023-11-21. Which schedule do I have on the given day?    Output: Schedule is Check-in at HyattRegency Seattle, Start time ⏰ is After 4:00 PM, Location is Hyatt Regency, Seattle, Participants are    Sheryl Soo(sheryl@zapier.com), Mike Knoop (Knoop@zapier.com) and Going to Tacoma airport, Start time ⏰ is After 7:00 PM, Location is Seattle Tacoma International Airport\n",
      "    Example 2\n",
      "    Input: The given date is 2023-11-03. Which schedule do I have on the given day?    Output: Schedule is Watching soccer game, Start time ⏰ is After 1:00 AM\n",
      "\n",
      "    Calendar input: [{'summary': '기도', 'start': {'dateTime': '2023-11-22T00:00:00ZT23:00:00+09:00', 'timeZone': 'Asia/Seoul'}, 'organizer': {'email': 'hayleyson92@gmail.com', 'self': True}, 'end': {'dateTime': '2023-11-22T00:00:00ZT00:00:00+09:00', 'timeZone': 'Asia/Seoul'}, 'location': '', 'attendees': ''}, {'summary': '수영', 'start': {'dateTime': '2023-11-22T00:00:00ZT13:30:00+09:00', 'timeZone': 'Asia/Seoul'}, 'organizer': {'email': 'hayleyson92@gmail.com', 'self': True}, 'end': {'dateTime': '2023-11-22T00:00:00ZT15:30:00+09:00', 'timeZone': 'Asia/Seoul'}, 'location': '', 'attendees': ''}, {'summary': '규인 휴가', 'start': '', 'organizer': {'email': 'hayleyson92@gmail.com', 'self': True}, 'end': '', 'location': '', 'attendees': ''}, {'summary': '성이랑 티타임', 'start': {'dateTime': '2023-11-22T00:00:00ZT15:00:00+09:00', 'timeZone': 'Asia/Seoul'}, 'organizer': {'email': 'hayleyson92@gmail.com', 'self': True}, 'end': {'dateTime': '2023-11-22T00:00:00ZT16:00:00+09:00', 'timeZone': 'Asia/Seoul'}, 'location': '', 'attendees': ''}, {'summary': 'Meeting with Ryan Gosling', 'start': {'dateTime': '2023-11-22T00:00:00ZT09:00:00+09:00', 'timeZone': 'Asia/Seoul'}, 'organizer': {'email': 'hayleyson92@gmail.com', 'self': True}, 'end': {'dateTime': '2023-11-22T00:00:00ZT10:00:00+09:00', 'timeZone': 'Asia/Seoul'}, 'location': 'Seoul National University, Seoul, South Korea', 'attendees': [{'email': 'ryan.gosling@example.com', 'responseStatus': 'needsAction'}]}]    \n",
      "\n",
      "Input: The given date is 2023-11-22.  I want to see a list of schedule from Monday two weeks later.\n",
      "    \n",
      "\n",
      "Output:     \n"
     ]
    },
    {
     "data": {
      "text/plain": [
       "'You have total 5 schedules for today, 2023-11-22.schedule 0 is 기도. Start time ⏰ is 23:00. \\nschedule 1 is 수영. Start time ⏰ is 13:30. \\nschedule 2 is 규인휴가. Start time ⏰ is . \\nschedule 3 is 성이랑티타임. Start time ⏰ is 15:00. \\nschedule 4 is MeetingwithRyanGosling. Start time ⏰ is 09:00. Location is SeoulNationalUniversity,Seoul,SouthKorea. Participants are and ryan.gosling@example.com. \\n'"
      ]
     },
     "execution_count": 52,
     "metadata": {},
     "output_type": "execute_result"
    }
   ],
   "source": [
    "mychatgpt = CalendarChatGPT(os.environ.get(\"OPENAI_API_KEY\"), \n",
    "                            calendarId=\"3669abef1c37b027d0f67733d06ea0dfdb30be790671aa54befc7679044ebebb@group.calendar.google.com\",\n",
    "                            timezone=\"Korean Standard Time\",\n",
    "                            max_tokens=1000)\n",
    "\n",
    "mychatgpt.prompt(\"\"\" I want to see a list of schedule from Monday two weeks later.\"\"\")"
   ]
  },
  {
   "cell_type": "code",
   "execution_count": null,
   "metadata": {},
   "outputs": [],
   "source": [
    "# # Wikipedia-grounded ChatGPT class\n",
    "# import openai\n",
    "# import wikipediaapi\n",
    "\n",
    "# class WikiChatGPT:\n",
    "#   def __init__(self, openai_api_key, max_tokens=100):\n",
    "#     openai.api_key = openai_api_key\n",
    "#     self.max_tokens = max_tokens\n",
    "#     self.messages = []\n",
    "\n",
    "#     # Add wikipedia module\n",
    "#     self.wikipedia = wikipediaapi.Wikipedia('MyProjectName (merlin@example.com)', 'en')\n",
    "\n",
    "#   def call(self):\n",
    "#     response = openai.ChatCompletion.create(\n",
    "#       model=\"gpt-3.5-turbo\",\n",
    "#       messages=self.messages,\n",
    "#       max_tokens=self.max_tokens,\n",
    "#     )\n",
    "#     return response\n",
    "\n",
    "#   def prompt(self, text):\n",
    "#     # Call ChatGPT for named entity recognition\n",
    "#     user_prompt = (\n",
    "#         f\"{text}\\n\\nDo not respond yet. List at most two named entities that \"\n",
    "#         \"might be relevant to your response, separated by commas.\"\n",
    "#         \"If none, just say nothing.\"\n",
    "#     )\n",
    "\n",
    "#     print(\">>===========================================\")\n",
    "#     print(\"[Prompt for NER]\")\n",
    "#     print(user_prompt + \"\\n\")\n",
    "\n",
    "#     # Update the messages\n",
    "#     self.messages.append({\n",
    "#         \"role\": \"user\",\n",
    "#         \"content\": user_prompt,\n",
    "#     })\n",
    "\n",
    "#     # Call ChatGPT\n",
    "#     response = self.call()\n",
    "\n",
    "#     # Parse the ChatGPT response to obtain a list of entities\n",
    "#     message_content = response[\"choices\"][0][\"message\"][\"content\"]\n",
    "\n",
    "#     print(\"[ChatGPT response for NER]\")\n",
    "#     print(message_content + \"\\n\")\n",
    "#     entities = [\n",
    "#         entity.strip() for entity in message_content.split(\",\")\n",
    "#         if entity.strip().lower() not in [\"\", \"nothing\"]\n",
    "#     ]\n",
    "\n",
    "#     # Retrieve Wikipedia pages\n",
    "#     entity_descriptions = []\n",
    "#     for entity in entities:\n",
    "#         page = self.wikipedia.page(entity)\n",
    "#         entity_descriptions.append(f\"{entity}: {page.summary}\")\n",
    "#     entity_descriptions_str = \"\\n\".join(entity_descriptions)\n",
    "\n",
    "#     print(\"[Wikipedia retrieval]\")\n",
    "#     if entity_descriptions_str:\n",
    "#         print(entity_descriptions_str)\n",
    "#     print()\n",
    "\n",
    "#     # Call ChatGPT to get a response to the original prompt\n",
    "#     user_prompt = f\"{text}\\n\\n\"\n",
    "#     if entity_descriptions_str:\n",
    "#         user_prompt += (\n",
    "#             \"Incorporate the following information in your response if necessary:\\n\"\n",
    "#             f\"{entity_descriptions_str}\"\n",
    "#         )\n",
    "#     print(\"[Revised user prompt]\")\n",
    "#     print(user_prompt)\n",
    "#     print(\"===========================================<<\")\n",
    "\n",
    "#     # Update the messages\n",
    "#     self.messages[-1][\"content\"] = user_prompt\n",
    "\n",
    "#     # Call ChatGPT\n",
    "#     response = self.call()\n",
    "\n",
    "#     # Save the returned message\n",
    "#     message = response[\"choices\"][0][\"message\"]\n",
    "#     self.messages.append(message)\n",
    "\n",
    "#     return message[\"content\"]"
   ]
  }
 ],
 "metadata": {
  "kernelspec": {
   "display_name": "conv-ai",
   "language": "python",
   "name": "python3"
  },
  "language_info": {
   "codemirror_mode": {
    "name": "ipython",
    "version": 3
   },
   "file_extension": ".py",
   "mimetype": "text/x-python",
   "name": "python",
   "nbconvert_exporter": "python",
   "pygments_lexer": "ipython3",
   "version": "3.12.0"
  }
 },
 "nbformat": 4,
 "nbformat_minor": 2
}
