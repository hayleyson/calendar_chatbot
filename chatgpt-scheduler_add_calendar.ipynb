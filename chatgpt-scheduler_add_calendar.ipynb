{
 "cells": [
  {
   "cell_type": "code",
   "execution_count": 1,
   "metadata": {},
   "outputs": [],
   "source": [
    "import calendar_utils\n",
    "import json"
   ]
  },
  {
   "cell_type": "code",
   "execution_count": 2,
   "metadata": {},
   "outputs": [
    {
     "data": {
      "text/plain": [
       "<module 'calendar_utils' from '/Users/hayley/Documents/conv_ai/calendar_utils.py'>"
      ]
     },
     "execution_count": 2,
     "metadata": {},
     "output_type": "execute_result"
    }
   ],
   "source": [
    "import importlib \n",
    "importlib.reload(calendar_utils)"
   ]
  },
  {
   "cell_type": "code",
   "execution_count": 3,
   "id": "616c69ec-bd72-417d-b292-5d07ee05b603",
   "metadata": {},
   "outputs": [
    {
     "data": {
      "text/plain": [
       "True"
      ]
     },
     "execution_count": 3,
     "metadata": {},
     "output_type": "execute_result"
    }
   ],
   "source": [
    "from dotenv import load_dotenv\n",
    "import os\n",
    "import re\n",
    "import datetime\n",
    "\n",
    "load_dotenv()"
   ]
  },
  {
   "cell_type": "code",
   "execution_count": 4,
   "id": "42431b6b-da8c-4df9-b838-c1ccd6714c30",
   "metadata": {},
   "outputs": [],
   "source": [
    "# Basic ChatGPT class\n",
    "import openai\n",
    "from openai import OpenAI\n",
    "\n",
    "\n",
    "class BasicChatGPT:\n",
    "  def __init__(self, openai_api_key, model =\"gpt-4-1106-preview\", json_output=False, max_tokens=100):\n",
    "    openai.api_key = openai_api_key\n",
    "    self.max_tokens = max_tokens\n",
    "    self.messages = []\n",
    "    self.client = OpenAI()\n",
    "    self.json_output = json_output\n",
    "    self.model = model\n",
    "\n",
    "  def call(self):\n",
    "    if self.json_output:\n",
    "      response = self.client.chat.completions.create(\n",
    "        model=self.model,\n",
    "        response_format={ \"type\": \"json_object\" }, ###### !!!!!\n",
    "        messages=self.messages,\n",
    "        max_tokens=self.max_tokens\n",
    "      )\n",
    "    else:\n",
    "      response = self.client.chat.completions.create(\n",
    "        model=self.model,\n",
    "        messages=self.messages,\n",
    "        max_tokens=self.max_tokens\n",
    "      )\n",
    "    return response\n",
    "\n",
    "  def prompt(self, text):\n",
    "    # Update the messages so far\n",
    "    self.messages.append({\n",
    "        \"role\": \"user\",\n",
    "        \"content\": text,\n",
    "    })\n",
    "\n",
    "    # Call ChatGPT\n",
    "    response = self.call()\n",
    "\n",
    "    # Save the returned message\n",
    "    message = response[\"choices\"][0][\"message\"]\n",
    "    self.messages.append(message)\n",
    "\n",
    "    return message[\"content\"]\n"
   ]
  },
  {
   "cell_type": "code",
   "execution_count": 5,
   "id": "e47de988-eaee-4bac-b130-cdcf0db1b6d7",
   "metadata": {},
   "outputs": [],
   "source": [
    "# # Run an interactive console to chat with ChatGPT\n",
    "# def run_console(chatgpt):\n",
    "#     while True:\n",
    "#         # Receive user input\n",
    "#         prompt = input(\"User: \")\n",
    "\n",
    "#         # Exit the loop if the user entered \"exit\"\n",
    "#         if prompt == \"exit\":\n",
    "#             break\n",
    "\n",
    "#         # Receive and display ChatGPT response\n",
    "#         response = chatgpt.prompt(prompt)\n",
    "#         print(\"ChatGPT:\", response)\n",
    "#     print(\"The chat has ended\")"
   ]
  },
  {
   "cell_type": "code",
   "execution_count": 5,
   "id": "7717221b-edde-46f9-978b-21b373e4368f",
   "metadata": {},
   "outputs": [],
   "source": [
    "# Make a ChatGPT object\n",
    "basic_chatgpt = BasicChatGPT(os.environ.get(\"OPENAI_API_KEY\"), json_output=True, max_tokens = 120)\n",
    "\n",
    "# run_console(basic_chatgpt)"
   ]
  },
  {
   "cell_type": "code",
   "execution_count": 6,
   "metadata": {},
   "outputs": [
    {
     "name": "stdout",
     "output_type": "stream",
     "text": [
      "Please visit this URL to authorize this application: https://accounts.google.com/o/oauth2/auth?response_type=code&client_id=686628833724-48cpcghnjstociti7n1p5hb5a0aedpg0.apps.googleusercontent.com&redirect_uri=http%3A%2F%2Flocalhost%3A51963%2F&scope=https%3A%2F%2Fwww.googleapis.com%2Fauth%2Fcalendar&state=xoqXXeVoCJk8jlGTBs1kqHgJiaenKg&access_type=offline\n"
     ]
    }
   ],
   "source": [
    "# calendar service 정의하는 부분 -> credentials.json 이 경로에 있어야 하고 \n",
    "# 그리고 팝업 뜨면 너가 authorize 해줘야함 그리고 너 노트북이나 데탑 로컬에서 해야 함\n",
    "# https://developers.google.com/resources/api-libraries/documentation/calendar/v3/python/latest/calendar_v3.events.html#list\n",
    "service = calendar_utils.get_calendar_service()"
   ]
  },
  {
   "cell_type": "code",
   "execution_count": 8,
   "metadata": {},
   "outputs": [],
   "source": [
    "## if user asks about \"today's schedule\"\n",
    "## first detect today\n",
    "## then find what's today\n",
    "## then request calendar for today's schedule"
   ]
  },
  {
   "cell_type": "code",
   "execution_count": 9,
   "metadata": {},
   "outputs": [
    {
     "ename": "AttributeError",
     "evalue": "type object 'datetime.datetime' has no attribute 'datetime'",
     "output_type": "error",
     "traceback": [
      "\u001b[0;31m---------------------------------------------------------------------------\u001b[0m",
      "\u001b[0;31mAttributeError\u001b[0m                            Traceback (most recent call last)",
      "\u001b[1;32m/Users/hayley/Documents/conv_ai/chatgpt-scheduler.ipynb Cell 9\u001b[0m line \u001b[0;36m3\n\u001b[1;32m      <a href='vscode-notebook-cell:/Users/hayley/Documents/conv_ai/chatgpt-scheduler.ipynb#X11sZmlsZQ%3D%3D?line=0'>1</a>\u001b[0m \u001b[39m# first detect today and then find what date is today\u001b[39;00m\n\u001b[0;32m----> <a href='vscode-notebook-cell:/Users/hayley/Documents/conv_ai/chatgpt-scheduler.ipynb#X11sZmlsZQ%3D%3D?line=2'>3</a>\u001b[0m input_text \u001b[39m=\u001b[39m \u001b[39mf\u001b[39m\u001b[39m\"\"\"\u001b[39m\u001b[39m Today is \u001b[39m\u001b[39m{\u001b[39;00mdatetime\u001b[39m.\u001b[39;49mdatetime\u001b[39m.\u001b[39mtoday()\u001b[39m.\u001b[39mdate()\u001b[39m}\u001b[39;00m\u001b[39m.\u001b[39m\n\u001b[1;32m      <a href='vscode-notebook-cell:/Users/hayley/Documents/conv_ai/chatgpt-scheduler.ipynb#X11sZmlsZQ%3D%3D?line=3'>4</a>\u001b[0m \u001b[39mDetect any time-related phrase from the given input from the user and resolve it into a date in the format of YYYY/MM/DD.\u001b[39m\n\u001b[1;32m      <a href='vscode-notebook-cell:/Users/hayley/Documents/conv_ai/chatgpt-scheduler.ipynb#X11sZmlsZQ%3D%3D?line=4'>5</a>\u001b[0m \u001b[39mExamples include today, tomorrow, this Wednesday, next Tuesday, last Friday, 11/13, November 5th, 13th of July.\u001b[39m\n\u001b[1;32m      <a href='vscode-notebook-cell:/Users/hayley/Documents/conv_ai/chatgpt-scheduler.ipynb#X11sZmlsZQ%3D%3D?line=5'>6</a>\u001b[0m \u001b[39mWhen the detected word is day of week, make sure to include adjective in front of it such as \u001b[39m\u001b[39m\"\u001b[39m\u001b[39mthis\u001b[39m\u001b[39m\"\u001b[39m\u001b[39m, \u001b[39m\u001b[39m\"\u001b[39m\u001b[39mnext\u001b[39m\u001b[39m\"\u001b[39m\u001b[39m, \u001b[39m\u001b[39m\"\u001b[39m\u001b[39mupcoming\u001b[39m\u001b[39m\"\u001b[39m\u001b[39m, \u001b[39m\u001b[39m\"\u001b[39m\u001b[39mlast\u001b[39m\u001b[39m\"\u001b[39m\u001b[39m, \u001b[39m\u001b[39m\"\u001b[39m\u001b[39mpast\u001b[39m\u001b[39m\"\u001b[39m\u001b[39m.\u001b[39m\n\u001b[1;32m      <a href='vscode-notebook-cell:/Users/hayley/Documents/conv_ai/chatgpt-scheduler.ipynb#X11sZmlsZQ%3D%3D?line=6'>7</a>\u001b[0m \u001b[39m\\n\u001b[39;00m\u001b[39m\\n\u001b[39;00m\n\u001b[1;32m      <a href='vscode-notebook-cell:/Users/hayley/Documents/conv_ai/chatgpt-scheduler.ipynb#X11sZmlsZQ%3D%3D?line=7'>8</a>\u001b[0m \u001b[39mYour output must be in this format. Json(\u001b[39m\u001b[39m\"\u001b[39m\u001b[39mdetected_phrase\u001b[39m\u001b[39m\"\u001b[39m\u001b[39m: <detected phrase>, \u001b[39m\u001b[39m\"\u001b[39m\u001b[39mdate\u001b[39m\u001b[39m\"\u001b[39m\u001b[39m: <YYYY/MM/DD>)\u001b[39m\n\u001b[1;32m      <a href='vscode-notebook-cell:/Users/hayley/Documents/conv_ai/chatgpt-scheduler.ipynb#X11sZmlsZQ%3D%3D?line=8'>9</a>\u001b[0m \n\u001b[1;32m     <a href='vscode-notebook-cell:/Users/hayley/Documents/conv_ai/chatgpt-scheduler.ipynb#X11sZmlsZQ%3D%3D?line=9'>10</a>\u001b[0m \u001b[39m\\n\u001b[39;00m\u001b[39m\\n\u001b[39;00m\n\u001b[1;32m     <a href='vscode-notebook-cell:/Users/hayley/Documents/conv_ai/chatgpt-scheduler.ipynb#X11sZmlsZQ%3D%3D?line=10'>11</a>\u001b[0m \u001b[39mExample 1\u001b[39m\n\u001b[1;32m     <a href='vscode-notebook-cell:/Users/hayley/Documents/conv_ai/chatgpt-scheduler.ipynb#X11sZmlsZQ%3D%3D?line=11'>12</a>\u001b[0m \u001b[39mInput: Today is 2023/1/2. ... I want to schedule a meeting at 5PM tomorrow.\u001b[39m\n\u001b[1;32m     <a href='vscode-notebook-cell:/Users/hayley/Documents/conv_ai/chatgpt-scheduler.ipynb#X11sZmlsZQ%3D%3D?line=12'>13</a>\u001b[0m \u001b[39mOutput: tomorrow, 2023/1/3\u001b[39m\n\u001b[1;32m     <a href='vscode-notebook-cell:/Users/hayley/Documents/conv_ai/chatgpt-scheduler.ipynb#X11sZmlsZQ%3D%3D?line=13'>14</a>\u001b[0m \n\u001b[1;32m     <a href='vscode-notebook-cell:/Users/hayley/Documents/conv_ai/chatgpt-scheduler.ipynb#X11sZmlsZQ%3D%3D?line=14'>15</a>\u001b[0m \u001b[39mExample 2\u001b[39m\n\u001b[1;32m     <a href='vscode-notebook-cell:/Users/hayley/Documents/conv_ai/chatgpt-scheduler.ipynb#X11sZmlsZQ%3D%3D?line=15'>16</a>\u001b[0m \u001b[39mInput: Today is 2023/1/2. ... What time does the class start next Friday?\u001b[39m\n\u001b[1;32m     <a href='vscode-notebook-cell:/Users/hayley/Documents/conv_ai/chatgpt-scheduler.ipynb#X11sZmlsZQ%3D%3D?line=16'>17</a>\u001b[0m \u001b[39mOutput: next Friday, 2023/1/13\u001b[39m\n\u001b[1;32m     <a href='vscode-notebook-cell:/Users/hayley/Documents/conv_ai/chatgpt-scheduler.ipynb#X11sZmlsZQ%3D%3D?line=17'>18</a>\u001b[0m \n\u001b[1;32m     <a href='vscode-notebook-cell:/Users/hayley/Documents/conv_ai/chatgpt-scheduler.ipynb#X11sZmlsZQ%3D%3D?line=18'>19</a>\u001b[0m \u001b[39mExample 3\u001b[39m\n\u001b[1;32m     <a href='vscode-notebook-cell:/Users/hayley/Documents/conv_ai/chatgpt-scheduler.ipynb#X11sZmlsZQ%3D%3D?line=19'>20</a>\u001b[0m \u001b[39mInput: Today is 2023/1/2. ... What is the date of this upcoming Friday?\u001b[39m\n\u001b[1;32m     <a href='vscode-notebook-cell:/Users/hayley/Documents/conv_ai/chatgpt-scheduler.ipynb#X11sZmlsZQ%3D%3D?line=20'>21</a>\u001b[0m \u001b[39mOutput: this upcoming Friday, 2023/1/6\u001b[39m\n\u001b[1;32m     <a href='vscode-notebook-cell:/Users/hayley/Documents/conv_ai/chatgpt-scheduler.ipynb#X11sZmlsZQ%3D%3D?line=21'>22</a>\u001b[0m \u001b[39m\\n\u001b[39;00m\u001b[39m\\n\u001b[39;00m\u001b[39mInput: \u001b[39m\n\u001b[1;32m     <a href='vscode-notebook-cell:/Users/hayley/Documents/conv_ai/chatgpt-scheduler.ipynb#X11sZmlsZQ%3D%3D?line=22'>23</a>\u001b[0m \u001b[39m\"\"\"\u001b[39m\n\u001b[1;32m     <a href='vscode-notebook-cell:/Users/hayley/Documents/conv_ai/chatgpt-scheduler.ipynb#X11sZmlsZQ%3D%3D?line=24'>25</a>\u001b[0m input_text \u001b[39m+\u001b[39m\u001b[39m=\u001b[39m \u001b[39m\"\u001b[39m\u001b[39mI want to see a list of schedule from Monday two weeks later.\u001b[39m\u001b[39m\"\u001b[39m\n\u001b[1;32m     <a href='vscode-notebook-cell:/Users/hayley/Documents/conv_ai/chatgpt-scheduler.ipynb#X11sZmlsZQ%3D%3D?line=28'>29</a>\u001b[0m basic_chatgpt\u001b[39m.\u001b[39mmessages\u001b[39m.\u001b[39mappend({\n\u001b[1;32m     <a href='vscode-notebook-cell:/Users/hayley/Documents/conv_ai/chatgpt-scheduler.ipynb#X11sZmlsZQ%3D%3D?line=29'>30</a>\u001b[0m     \u001b[39m\"\u001b[39m\u001b[39mrole\u001b[39m\u001b[39m\"\u001b[39m: \u001b[39m\"\u001b[39m\u001b[39muser\u001b[39m\u001b[39m\"\u001b[39m,\n\u001b[1;32m     <a href='vscode-notebook-cell:/Users/hayley/Documents/conv_ai/chatgpt-scheduler.ipynb#X11sZmlsZQ%3D%3D?line=30'>31</a>\u001b[0m     \u001b[39m\"\u001b[39m\u001b[39mcontent\u001b[39m\u001b[39m\"\u001b[39m: input_text,\n\u001b[1;32m     <a href='vscode-notebook-cell:/Users/hayley/Documents/conv_ai/chatgpt-scheduler.ipynb#X11sZmlsZQ%3D%3D?line=31'>32</a>\u001b[0m })\n",
      "\u001b[0;31mAttributeError\u001b[0m: type object 'datetime.datetime' has no attribute 'datetime'"
     ]
    }
   ],
   "source": [
    "# first detect today and then find what date is today\n",
    "\n",
    "input_text = f\"\"\" Today is {datetime.datetime.today().date()}.\n",
    "Detect any time-related phrase from the given input from the user and resolve it into a date in the format of YYYY/MM/DD.\n",
    "Examples include today, tomorrow, this Wednesday, next Tuesday, last Friday, 11/13, November 5th, 13th of July.\n",
    "When the detected word is day of week, make sure to include adjective in front of it such as \"this\", \"next\", \"upcoming\", \"last\", \"past\".\n",
    "\\n\\n\n",
    "Your output must be in this format. Json(\"detected_phrase\": <detected phrase>, \"date\": <YYYY/MM/DD>)\n",
    "\n",
    "\\n\\n\n",
    "Example 1\n",
    "Input: Today is 2023/1/2. ... I want to schedule a meeting at 5PM tomorrow.\n",
    "Output: tomorrow, 2023/1/3\n",
    "\n",
    "Example 2\n",
    "Input: Today is 2023/1/2. ... What time does the class start next Friday?\n",
    "Output: next Friday, 2023/1/13\n",
    "\n",
    "Example 3\n",
    "Input: Today is 2023/1/2. ... What is the date of this upcoming Friday?\n",
    "Output: this upcoming Friday, 2023/1/6\n",
    "\\n\\nInput: \n",
    "\"\"\"\n",
    "\n",
    "input_text += \"I want to see a list of schedule from Monday two weeks later.\"\n",
    "\n",
    "\n",
    "\n",
    "basic_chatgpt.messages.append({\n",
    "    \"role\": \"user\",\n",
    "    \"content\": input_text,\n",
    "})\n",
    "\n",
    "# Call ChatGPT\n",
    "response = basic_chatgpt.call()\n",
    "message = response.choices[0].message.content\n",
    "init_result = json.loads(message)\n",
    "\n",
    "print(message)\n",
    "# Save the returned message\n",
    "# message = response[\"choices\"][0][\"message\"]\n",
    "# self.messages.append(message)\n",
    "\n"
   ]
  },
  {
   "cell_type": "code",
   "execution_count": 102,
   "metadata": {},
   "outputs": [],
   "source": [
    "# mydate = datetime.datetime.strptime(init_result['date'], \"%Y/%m/%d\").isoformat() + \"Z\"\n",
    "# mydate_p1 = (datetime.datetime.strptime(init_result['date'], \"%Y/%m/%d\") + datetime.timedelta(days=1)).isoformat() + \"Z\"\n",
    "mydate = datetime.datetime.now(datetime.UTC).isoformat().split('+')[0] + \"Z\"\n",
    "mydate_p1 = (datetime.datetime.now(datetime.UTC) + datetime.timedelta(days=1)).isoformat().split('+')[0] + \"Z\""
   ]
  },
  {
   "cell_type": "code",
   "execution_count": 104,
   "metadata": {},
   "outputs": [
    {
     "name": "stdout",
     "output_type": "stream",
     "text": [
      "2023-10-08T23:00:00+09:00 기도\n",
      "2023-11-22 규인 휴가\n"
     ]
    },
    {
     "data": {
      "text/plain": [
       "[{'kind': 'calendar#event',\n",
       "  'etag': '\"3393470160096000\"',\n",
       "  'id': '_8os38chm650j2ba274qj2b9k70rj2b9p6cr48ba48p2j8da16spj6ci460',\n",
       "  'status': 'confirmed',\n",
       "  'htmlLink': 'https://www.google.com/calendar/event?eid=XzhvczM4Y2htNjUwajJiYTI3NHFqMmI5azcwcmoyYjlwNmNyNDhiYTQ4cDJqOGRhMTZzcGo2Y2k0NjBfMjAyMzEwMDhUMTQwMDAwWiBoYXlsZXlzb245MkBt',\n",
       "  'created': '2023-10-08T03:17:49.000Z',\n",
       "  'updated': '2023-10-08T03:18:00.048Z',\n",
       "  'summary': '기도',\n",
       "  'creator': {'email': 'hayleyson92@gmail.com', 'self': True},\n",
       "  'organizer': {'email': 'hayleyson92@gmail.com', 'self': True},\n",
       "  'start': {'dateTime': '2023-10-08T23:00:00+09:00', 'timeZone': 'Asia/Seoul'},\n",
       "  'end': {'dateTime': '2023-10-09T00:00:00+09:00', 'timeZone': 'Asia/Seoul'},\n",
       "  'recurrence': ['RRULE:FREQ=DAILY'],\n",
       "  'iCalUID': 'F84261A1-B951-4871-936D-DFE45A7332D0',\n",
       "  'sequence': 1,\n",
       "  'reminders': {'useDefault': True},\n",
       "  'eventType': 'default'},\n",
       " {'kind': 'calendar#event',\n",
       "  'etag': '\"3399772430664000\"',\n",
       "  'id': '_68pj6d2660pj4ba460p3ab9k6so3eba18gr3eba18d0jed1h6l0k4cq68o',\n",
       "  'status': 'confirmed',\n",
       "  'htmlLink': 'https://www.google.com/calendar/event?eid=XzY4cGo2ZDI2NjBwajRiYTQ2MHAzYWI5azZzbzNlYmExOGdyM2ViYTE4ZDBqZWQxaDZsMGs0Y3E2OG8gaGF5bGV5c29uOTJAbQ',\n",
       "  'created': '2023-11-13T14:36:55.000Z',\n",
       "  'updated': '2023-11-13T14:36:55.332Z',\n",
       "  'summary': '규인 휴가',\n",
       "  'creator': {'email': 'hayleyson92@gmail.com', 'self': True},\n",
       "  'organizer': {'email': 'hayleyson92@gmail.com', 'self': True},\n",
       "  'start': {'date': '2023-11-22'},\n",
       "  'end': {'date': '2023-12-01'},\n",
       "  'iCalUID': '2334F032-D025-4707-AD67-ACA7415AB3FF',\n",
       "  'sequence': 0,\n",
       "  'reminders': {'useDefault': False,\n",
       "   'overrides': [{'method': 'popup', 'minutes': 30}]},\n",
       "  'eventType': 'default'}]"
      ]
     },
     "execution_count": 104,
     "metadata": {},
     "output_type": "execute_result"
    }
   ],
   "source": [
    "#https://developers.google.com/resources/api-libraries/documentation/calendar/v3/python/latest/calendar_v3.events.html#list\n",
    "\n",
    "calendar_utils.get_event_list_recent(timeMin=mydate, timeMax=mydate_p1)"
   ]
  },
  {
   "cell_type": "code",
   "execution_count": 7,
   "metadata": {},
   "outputs": [],
   "source": [
    "event = {\n",
    "  'summary': 'Dancing in the moonlight',\n",
    "  'location': 'LaLa Land',\n",
    "  'description': 'I plan to dance with Ryan Gosling in the yellow dress.',\n",
    "  'start': {\n",
    "    'dateTime': '2023-11-28T09:00:00-07:00',\n",
    "    'timeZone': 'America/Los_Angeles',\n",
    "  },\n",
    "  'end': {\n",
    "    'dateTime': '2023-11-28T17:00:00-07:00',\n",
    "    'timeZone': 'America/Los_Angeles',\n",
    "  },\n",
    "  'recurrence': [\n",
    "    'RRULE:FREQ=DAILY;COUNT=2'\n",
    "  ],\n",
    "  'attendees': [\n",
    "    {'email': 'ryangosling@example.com'}\n",
    "  ],\n",
    "  'reminders': {\n",
    "    'useDefault': False,\n",
    "    'overrides': [\n",
    "      {'method': 'email', 'minutes': 24 * 60},\n",
    "      {'method': 'popup', 'minutes': 10},\n",
    "    ],\n",
    "  },\n",
    "}"
   ]
  },
  {
   "cell_type": "code",
   "execution_count": 8,
   "metadata": {},
   "outputs": [
    {
     "name": "stdout",
     "output_type": "stream",
     "text": [
      "Event created: https://www.google.com/calendar/event?eid=NWxjaDk2YXI2NHI2MTFwZmowNDB0b2JmdDhfMjAyMzExMjhUMTYwMDAwWiBoYXlsZXlzb245MkBt\n"
     ]
    }
   ],
   "source": [
    "event = service.events().insert(calendarId='primary', body=event).execute()\n",
    "print('Event created: %s' % (event.get('htmlLink')))"
   ]
  },
  {
   "cell_type": "code",
   "execution_count": null,
   "metadata": {},
   "outputs": [],
   "source": [
    "# first detect today and then find what date is today\n",
    "\n",
    "input_text = f\"\"\"\n",
    "\\n\\nInput: \n",
    "\"\"\"\n",
    "\n",
    "input_text += \"I want to see a list of schedule from Monday two weeks later.\"\n",
    "\n",
    "\n",
    "\n",
    "basic_chatgpt.messages.append({\n",
    "    \"role\": \"user\",\n",
    "    \"content\": input_text,\n",
    "})\n",
    "\n",
    "# Call ChatGPT\n",
    "response = basic_chatgpt.call()\n",
    "message = response.choices[0].message.content\n",
    "init_result = json.loads(message)\n",
    "\n",
    "print(message)"
   ]
  },
  {
   "cell_type": "code",
   "execution_count": 49,
   "metadata": {},
   "outputs": [
    {
     "name": "stdout",
     "output_type": "stream",
     "text": [
      "2023-11-27\n"
     ]
    }
   ],
   "source": [
    "# 이거 내가 룰로 짜서 this monday -> 2023/11/27 이렇게 파싱하려고 했던 흔적임. 근데 그냥 chatgpt gpt4 한테 물어봤는데 잘해서 그냥 이거로 안했음..\n",
    "# 그렇게 할 때의 input_text 는 이거였음 아래 참고\n",
    "\n",
    "# input_text = \"\"\"\n",
    "# Detect any time-related word from the given input from the user.\n",
    "# Examples include today, tomorrow, this Wednesday, next Tuesday, last Friday, 11/13, November 5th, 13th of July.\n",
    "# When the detected word is day of week, make sure to include adjective in front of it such as \"this\", \"next\", \"upcoming\", \"last\", \"past\".\n",
    "# \\n\\n\n",
    "# Example 1\n",
    "# Input: I want to schedule a meeting at 5PM tomorrow.\n",
    "# Output: tomorrow\n",
    "\n",
    "# Example 2\n",
    "# Input: What time does the class start next Friday?\n",
    "# Output: next Friday\n",
    "\n",
    "# Example 3\n",
    "# Input: What is the date of this upcoming Friday?\n",
    "# Output: this upcoming Friday\n",
    "# \\n\\nInput: \n",
    "# \"\"\"\n",
    "\n",
    "\n",
    "# query_date = None\n",
    "# found_time_related_phrase = 'this Monday'\n",
    "# found_time_related_phrase = found_time_related_phrase.lower()\n",
    "# if found_time_related_phrase == 'today':\n",
    "#     query_date = datetime.datetime.today().date()\n",
    "# elif found_time_related_phrase == 'tomorrow':\n",
    "#     query_date = datetime.datetime.today().date() + datetime.timedelta(days=1)\n",
    "# elif found_time_related_phrase == 'yesterday':\n",
    "#     query_date = datetime.datetime.today().date() - datetime.timedelta(days=1)\n",
    "# elif 'day' in found_time_related_phrase:\n",
    "#     phrases = found_time_related_phrase.split()\n",
    "#     prefix = phrases[0]\n",
    "#     dow = phrases[-1]\n",
    "#     dow2num={'monday':0, 'tuesday':1, 'wednesday':2, 'thursday':3, 'friday': 4, 'saturday':5, 'sunday':6}\n",
    "#     today = datetime.date.today()\n",
    "#     this_dow = today + datetime.timedelta( (dow2num[dow]-today.weekday()) % 7 )\n",
    "#     if prefix == 'this': # dow closest from today in the future\n",
    "#         query_date = this_dow\n",
    "#     elif prefix == 'next': # dow one week from this dow\n",
    "#         query_date = this_dow + datetime.timedelta(7)\n",
    "#     elif prefix == 'last': # dow one week prior to this dow\n",
    "#         query_date = this_dow - datetime.timedelta(7)\n",
    "# print(query_date)"
   ]
  },
  {
   "cell_type": "code",
   "execution_count": 21,
   "metadata": {},
   "outputs": [],
   "source": [
    "# to-do : 계획좀 짜주라 -> time frame ?? 이 너무 길면은 실행시간이 너무 오래 걸린다.ㅠㅠ\n",
    "# to-do : 계획 중에 마일스톤은 등록하기??\n",
    "\n",
    "input_text = \"\"\"I have NAACL deadline due at December 16th and Hackathon during November 28-30th, and final project due at 12/4 and 12/8. Can you help me plan for these tasks? Please include some intermediate steps that I can take and potential dates or mini deadlines that I can impose on myself.\n",
    "If the difference between today and the latest deadline of my goal is greater than 7 days, simply list some milestones that I can refer to.\n",
    "\n",
    "The response should be in JSON format as below. Please mark mini-deadlines or milestones with this emoji ⭐️.\n",
    "\n",
    "{<YYYY-MM-DD>: {\"9:00\": <action>, \"10:00\": <action>, \"11:00\": <action>, \"12:00\": <action>, \"13:00\": <action>, \"14:00\": <action>, \"15:00\": <action>, \"16:00\": <action>, \"17:00\": <action>, \"18:00\": <action>, \"19:00\": <action>, \"20:00\": <action>, \"21:00\": <action>, \"22:00\": <action> },\n",
    "<YYYY-MM-DD>: {\"9:00\": <action>, \"10:00\": <action>, \"11:00\": <action>, \"12:00\": <action>, \"13:00\": <action>, \"14:00\": <action>, \"15:00\": <action>, \"16:00\": <action>, \"17:00\": <action>, \"18:00\": <action>, \"19:00\": <action>, \"20:00\": <action>, \"21:00\": <action>, \"22:00\": <action> },\n",
    "<YYYY-MM-DD>: {\"9:00\": <action>, \"10:00\": <action>, \"11:00\": <action>, \"12:00\": <action>, \"13:00\": <action>, \"14:00\": <action>, \"15:00\": <action>, \"16:00\": <action>, \"17:00\": <action>, \"18:00\": <action>, \"19:00\": <action>, \"20:00\": <action>, \"21:00\": <action>, \"22:00\": <action> }}\n",
    "\n",
    "\"\"\""
   ]
  },
  {
   "cell_type": "code",
   "execution_count": 22,
   "metadata": {},
   "outputs": [
    {
     "name": "stdout",
     "output_type": "stream",
     "text": [
      "{\n",
      "    \"2022-11-20\": {\n",
      "        \"9:00\": \"Define Hackathon project scope\",\n",
      "        \"10:00\": \"Research for the Hackathon project\",\n",
      "        \"11:00\": \"Break and refresh\",\n",
      "        \"12:00\": \"Outline Hackathon project structure\",\n",
      "        \"13:00\": \"Lunch break\",\n",
      "        \"14:00\": \"Draft initial project design for Hackathon\",\n",
      "        \"15:00\": \"Review progress and refine design\",\n",
      "        \"16:00\": \"Set up development environment for Hackathon\",\n",
      "        \"17:00\": \"Break\",\n",
      "        \"18:00\": \"Start Hackathon coding (basic setup)\",\n",
      "        \"19:00\": \"Dinner\",\n",
      "        \"20:00\": \"Continue coding for Hackathon\",\n",
      "        \"21:00\": \"End day review and plan for next day\",\n",
      "        \"22:00\": \"Rest\"\n",
      "    },\n",
      "    \"2022-11-25\": {\n",
      "        \"9:00\": \"Review NAACL paper progress\",\n",
      "        \"10:00\": \"Write introduction for NAACL paper ⭐️\",\n",
      "        \"11:00\": \"Break and refresh\",\n",
      "        \"12:00\": \"Write methods section for NAACL paper\",\n",
      "        \"13:00\": \"Lunch break\",\n",
      "        \"14:00\": \"Continue methods section for NAACL paper\",\n",
      "        \"15:00\": \"Review and refine methods section\",\n",
      "        \"16:00\": \"Start results section for NAACL paper\",\n",
      "        \"17:00\": \"Short refreshment\",\n",
      "        \"18:00\": \"Process data for results section\",\n",
      "        \"19:00\": \"Dinner\",\n",
      "        \"20:00\": \"Analyze first set of results for NAACL paper\",\n",
      "        \"21:00\": \"Prepare plan for final push on Hackathon project\",\n",
      "        \"22:00\": \"Rest and relax\"\n",
      "    },\n",
      "    \"2022-11-28\": {\n",
      "        \"9:00\": \"Prepare Hackathon workspace and resources\",\n",
      "        \"10:00\": \"Kick-off Hackathon with team\",\n",
      "        \"11:00\": \"Hackathon coding session\",\n",
      "        \"12:00\": \"Quick team status check\",\n",
      "        \"13:00\": \"Lunch break and team bonding\",\n",
      "        \"14:00\": \"Continue Hackathon coding session\",\n",
      "        \"15:00\": \"Brainstorm optimization with team\",\n",
      "        \"16:00\": \"Deploy initial Hackathon prototype for testing\",\n",
      "        \"17:00\": \"Break and refreshments\",\n",
      "        \"18:00\": \"Review prototype feedback and iterate\",\n",
      "        \"19:00\": \"Dinner with team\",\n",
      "        \"20:00\": \"Evening Hackathon coding push\",\n",
      "        \"21:00\": \"End day review with team and plan for next day\",\n",
      "        \"22:00\": \"Rest and personal downtime\"\n",
      "    },\n",
      "    \"2022-12-01\": {\n",
      "        \"9:00\": \"Outline final project report\",\n",
      "        \"10:00\": \"Begin writing background section of report\",\n",
      "        \"11:00\": \"Take a short break\",\n",
      "        \"12:00\": \"Define experiments and methodology for report\",\n",
      "        \"13:00\": \"Lunch break\",\n",
      "        \"14:00\": \"Write methodology section for report\",\n",
      "        \"15:00\": \"Compile results for report inclusion ⭐️\",\n",
      "        \"16:00\": \"Analyze results and create graphs/tables\",\n",
      "        \"17:00\": \"Short refreshment break\",\n",
      "        \"18:00\": \"Draft discussion section for report\",\n",
      "        \"19:00\": \"Dinner\",\n",
      "        \"20:00\": \"Proofread and review draft report\",\n",
      "        \"21:00\": \"Plan revisions and enhancements\",\n",
      "        \"22:00\": \"Well-earned rest\"\n",
      "    },\n",
      "    \"2022-12-04\": {\n",
      "        \"9:00\": \"Finalize Hackathon documentation\",\n",
      "        \"10:00\": \"Proofread and prepare Hackathon presentation ⭐️\",\n",
      "        \"11:00\": \"Break\",\n",
      "        \"12:00\": \"Rehearse Hackathon presentation\",\n",
      "        \"13:00\": \"Lunch break\",\n",
      "        \"14:00\": \"Prepare final submission materials for Hackathon\",\n",
      "        \"15:00\": \"Polish final project draft based on feedback\",\n",
      "        \"16:00\": \"Submit final project (if ready)\",\n",
      "        \"17:00\": \"Short break and refresh\",\n",
      "        \"18:00\": \"Resume writing NAACL paper\",\n",
      "        \"19:00\": \"Dinner\",\n",
      "        \"20:00\": \"Write abstract and conclusion for NAACL paper\",\n",
      "        \"21:00\": \"Review day's progress and adjust next steps\",\n",
      "        \"22:00\": \"End day with relaxation activities\"\n",
      "    },\n",
      "    \"2022-12-08\": {\n",
      "        \"9\n"
     ]
    }
   ],
   "source": [
    "\n",
    "\n",
    "basic_chatgpt = BasicChatGPT(os.environ.get(\"OPENAI_API_KEY\"), json_output=True, max_tokens = 1000)\n",
    "\n",
    "basic_chatgpt.messages.append({\n",
    "    \"role\": \"user\",\n",
    "    \"content\": input_text,\n",
    "})\n",
    "\n",
    "# Call ChatGPT\n",
    "response = basic_chatgpt.call()\n",
    "message = response.choices[0].message.content\n",
    "# init_result = json.loads(message)\n",
    "\n",
    "print(message)\n",
    "# Save the returned message\n",
    "# message = response[\"choices\"][0][\"message\"]\n",
    "# self.messages.append(message)\n",
    "\n"
   ]
  },
  {
   "cell_type": "code",
   "execution_count": null,
   "metadata": {},
   "outputs": [],
   "source": [
    "# 하다가 짤렸음 1000개 token을 해도 모자란 듯 ㅠ;; 대책 강구가 필요! 원래 생각은 별표 있는 것들에 대해서만 calendar 등록하려고 했었음.\n",
    "# 그리고 예전에 교수님이랑 면담했을 때에는 whether needs scheduling or not 에 대한 classify를 chat gpt 가 하도록 하는걸 이야기하셨었다.\n",
    "# 그것도 구현할지?? 으아..ㅠㅠ 너무 시간이 없다...........\n",
    "\n",
    "\n",
    "# {\n",
    "#     \"2022-11-20\": {\n",
    "#         \"9:00\": \"Define Hackathon project scope\",\n",
    "#         \"10:00\": \"Research for the Hackathon project\",\n",
    "#         \"11:00\": \"Break and refresh\",\n",
    "#         \"12:00\": \"Outline Hackathon project structure\",\n",
    "#         \"13:00\": \"Lunch break\",\n",
    "#         \"14:00\": \"Draft initial project design for Hackathon\",\n",
    "#         \"15:00\": \"Review progress and refine design\",\n",
    "#         \"16:00\": \"Set up development environment for Hackathon\",\n",
    "#         \"17:00\": \"Break\",\n",
    "#         \"18:00\": \"Start Hackathon coding (basic setup)\",\n",
    "#         \"19:00\": \"Dinner\",\n",
    "#         \"20:00\": \"Continue coding for Hackathon\",\n",
    "#         \"21:00\": \"End day review and plan for next day\",\n",
    "#         \"22:00\": \"Rest\"\n",
    "#     },\n",
    "#     \"2022-11-25\": {\n",
    "#         \"9:00\": \"Review NAACL paper progress\",\n",
    "#         \"10:00\": \"Write introduction for NAACL paper ⭐️\",\n",
    "#         \"11:00\": \"Break and refresh\",\n",
    "#         \"12:00\": \"Write methods section for NAACL paper\",\n",
    "#         \"13:00\": \"Lunch break\",\n",
    "#         \"14:00\": \"Continue methods section for NAACL paper\",\n",
    "#         \"15:00\": \"Review and refine methods section\",\n",
    "#         \"16:00\": \"Start results section for NAACL paper\",\n",
    "#         \"17:00\": \"Short refreshment\",\n",
    "#         \"18:00\": \"Process data for results section\",\n",
    "#         \"19:00\": \"Dinner\",\n",
    "#         \"20:00\": \"Analyze first set of results for NAACL paper\",\n",
    "#         \"21:00\": \"Prepare plan for final push on Hackathon project\",\n",
    "#         \"22:00\": \"Rest and relax\"\n",
    "#     },\n",
    "#     \"2022-11-28\": {\n",
    "#         \"9:00\": \"Prepare Hackathon workspace and resources\",\n",
    "#         \"10:00\": \"Kick-off Hackathon with team\",\n",
    "#         \"11:00\": \"Hackathon coding session\",\n",
    "#         \"12:00\": \"Quick team status check\",\n",
    "#         \"13:00\": \"Lunch break and team bonding\",\n",
    "#         \"14:00\": \"Continue Hackathon coding session\",\n",
    "#         \"15:00\": \"Brainstorm optimization with team\",\n",
    "#         \"16:00\": \"Deploy initial Hackathon prototype for testing\",\n",
    "#         \"17:00\": \"Break and refreshments\",\n",
    "#         \"18:00\": \"Review prototype feedback and iterate\",\n",
    "#         \"19:00\": \"Dinner with team\",\n",
    "#         \"20:00\": \"Evening Hackathon coding push\",\n",
    "#         \"21:00\": \"End day review with team and plan for next day\",\n",
    "#         \"22:00\": \"Rest and personal downtime\"\n",
    "#     },\n",
    "#     \"2022-12-01\": {\n",
    "#         \"9:00\": \"Outline final project report\",\n",
    "#         \"10:00\": \"Begin writing background section of report\",\n",
    "#         \"11:00\": \"Take a short break\",\n",
    "#         \"12:00\": \"Define experiments and methodology for report\",\n",
    "#         \"13:00\": \"Lunch break\",\n",
    "#         \"14:00\": \"Write methodology section for report\",\n",
    "#         \"15:00\": \"Compile results for report inclusion ⭐️\",\n",
    "#         \"16:00\": \"Analyze results and create graphs/tables\",\n",
    "#         \"17:00\": \"Short refreshment break\",\n",
    "#         \"18:00\": \"Draft discussion section for report\",\n",
    "#         \"19:00\": \"Dinner\",\n",
    "#         \"20:00\": \"Proofread and review draft report\",\n",
    "#         \"21:00\": \"Plan revisions and enhancements\",\n",
    "#         \"22:00\": \"Well-earned rest\"\n",
    "#     },\n",
    "#     \"2022-12-04\": {\n",
    "#         \"9:00\": \"Finalize Hackathon documentation\",\n",
    "#         \"10:00\": \"Proofread and prepare Hackathon presentation ⭐️\",\n",
    "#         \"11:00\": \"Break\",\n",
    "#         \"12:00\": \"Rehearse Hackathon presentation\",\n",
    "#         \"13:00\": \"Lunch break\",\n",
    "#         \"14:00\": \"Prepare final submission materials for Hackathon\",\n",
    "#         \"15:00\": \"Polish final project draft based on feedback\",\n",
    "#         \"16:00\": \"Submit final project (if ready)\",\n",
    "#         \"17:00\": \"Short break and refresh\",\n",
    "#         \"18:00\": \"Resume writing NAACL paper\",\n",
    "#         \"19:00\": \"Dinner\",\n",
    "#         \"20:00\": \"Write abstract and conclusion for NAACL paper\",\n",
    "#         \"21:00\": \"Review day's progress and adjust next steps\",\n",
    "#         \"22:00\": \"End day with relaxation activities\"\n",
    "#     },\n",
    "#     \"2022-12-08\": {\n",
    "#         \"9\n"
   ]
  }
 ],
 "metadata": {
  "kernelspec": {
   "display_name": "Python 3 (ipykernel)",
   "language": "python",
   "name": "python3"
  },
  "language_info": {
   "codemirror_mode": {
    "name": "ipython",
    "version": 3
   },
   "file_extension": ".py",
   "mimetype": "text/x-python",
   "name": "python",
   "nbconvert_exporter": "python",
   "pygments_lexer": "ipython3",
   "version": "3.12.0"
  }
 },
 "nbformat": 4,
 "nbformat_minor": 5
}
